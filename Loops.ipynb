{
  "cells": [
    {
      "cell_type": "markdown",
      "metadata": {
        "id": "view-in-github",
        "colab_type": "text"
      },
      "source": [
        "<a href=\"https://colab.research.google.com/github/kalyankalluri999/Python_Practice/blob/main/Loops.ipynb\" target=\"_parent\"><img src=\"https://colab.research.google.com/assets/colab-badge.svg\" alt=\"Open In Colab\"/></a>"
      ]
    },
    {
      "cell_type": "markdown",
      "source": [
        ""
      ],
      "metadata": {
        "id": "dAZkwHBO7JiG"
      }
    },
    {
      "cell_type": "code",
      "source": [
        ""
      ],
      "metadata": {
        "id": "RF93clAq7JQa"
      },
      "execution_count": 22,
      "outputs": []
    },
    {
      "cell_type": "markdown",
      "source": [
        "# **Loops**"
      ],
      "metadata": {
        "id": "i7a9T3yy2e4r"
      }
    },
    {
      "cell_type": "markdown",
      "source": [
        "**While loop**"
      ],
      "metadata": {
        "id": "D4cxPBi72gnf"
      }
    },
    {
      "cell_type": "markdown",
      "source": [
        "Action of plan while implementing While loops.\n",
        "\n",
        "•\t**Initialisation**\n",
        "\n",
        "•\t**Condition**\n",
        "\n",
        "•\t**Increment/Decrement** \n"
      ],
      "metadata": {
        "id": "e9e8zy4N6upq"
      }
    },
    {
      "cell_type": "code",
      "source": [
        "i = 1 # initialization\n",
        "while i < 8:  # Condition\n",
        "  print(\"Welcome to Loops\")\n",
        "  i = i+1 # Increment/Decrement"
      ],
      "metadata": {
        "colab": {
          "base_uri": "https://localhost:8080/"
        },
        "id": "0CaHc8Ax2jfr",
        "outputId": "64d6da6f-d263-4c8e-c409-046b1c48d97c"
      },
      "execution_count": 23,
      "outputs": [
        {
          "output_type": "stream",
          "name": "stdout",
          "text": [
            "Welcome to Loops\n",
            "Welcome to Loops\n",
            "Welcome to Loops\n",
            "Welcome to Loops\n",
            "Welcome to Loops\n",
            "Welcome to Loops\n",
            "Welcome to Loops\n"
          ]
        }
      ]
    },
    {
      "cell_type": "code",
      "source": [
        "i = 4\n",
        "while i>1:\n",
        "  print('I want to decrement')\n",
        "  i=i-1"
      ],
      "metadata": {
        "colab": {
          "base_uri": "https://localhost:8080/"
        },
        "id": "L_qf5C7L4XQA",
        "outputId": "6e8b594d-443f-4b92-e70d-f68216cd5daa"
      },
      "execution_count": 24,
      "outputs": [
        {
          "output_type": "stream",
          "name": "stdout",
          "text": [
            "I want to decrement\n",
            "I want to decrement\n",
            "I want to decrement\n"
          ]
        }
      ]
    },
    {
      "cell_type": "markdown",
      "source": [
        "**Multiple while loops**"
      ],
      "metadata": {
        "id": "rDEcyVB45_PV"
      }
    },
    {
      "cell_type": "code",
      "source": [
        "#Multiple while loops\n",
        "i = 1\n",
        "while i <4:\n",
        "  print('Sai Kalyan')\n",
        "  i = i+1\n",
        "  j=1\n",
        "  while j<10:\n",
        "    print('Kalluri')\n",
        "    j=j+1"
      ],
      "metadata": {
        "colab": {
          "base_uri": "https://localhost:8080/"
        },
        "id": "tThph3U05G0A",
        "outputId": "86d23385-7ea4-4e82-ad1d-6d15d8a90ae2"
      },
      "execution_count": 25,
      "outputs": [
        {
          "output_type": "stream",
          "name": "stdout",
          "text": [
            "Sai Kalyan\n",
            "Kalluri\n",
            "Kalluri\n",
            "Kalluri\n",
            "Kalluri\n",
            "Kalluri\n",
            "Kalluri\n",
            "Kalluri\n",
            "Kalluri\n",
            "Kalluri\n",
            "Sai Kalyan\n",
            "Kalluri\n",
            "Kalluri\n",
            "Kalluri\n",
            "Kalluri\n",
            "Kalluri\n",
            "Kalluri\n",
            "Kalluri\n",
            "Kalluri\n",
            "Kalluri\n",
            "Sai Kalyan\n",
            "Kalluri\n",
            "Kalluri\n",
            "Kalluri\n",
            "Kalluri\n",
            "Kalluri\n",
            "Kalluri\n",
            "Kalluri\n",
            "Kalluri\n",
            "Kalluri\n"
          ]
        }
      ]
    },
    {
      "cell_type": "markdown",
      "source": [
        "**Break Statement**"
      ],
      "metadata": {
        "id": "flf3Jr6x7Hjn"
      }
    },
    {
      "cell_type": "code",
      "source": [
        "k = 1\n",
        "while k < 6:\n",
        "  print(k)\n",
        "  if k == 3:\n",
        "    break\n",
        "  k += 1"
      ],
      "metadata": {
        "colab": {
          "base_uri": "https://localhost:8080/"
        },
        "id": "Nz1tMbe07fEA",
        "outputId": "6b8413f4-4e27-4bc3-ec2a-85e6a7fa04c0"
      },
      "execution_count": 26,
      "outputs": [
        {
          "output_type": "stream",
          "name": "stdout",
          "text": [
            "1\n",
            "2\n",
            "3\n"
          ]
        }
      ]
    },
    {
      "cell_type": "markdown",
      "source": [
        "**Continue Statement**"
      ],
      "metadata": {
        "id": "5K6Eb3pN7UD8"
      }
    },
    {
      "cell_type": "code",
      "source": [
        "i = 0\n",
        "while i < 6:\n",
        "  i += 1\n",
        "  if i == 3:\n",
        "    continue\n",
        "  print(i)"
      ],
      "metadata": {
        "colab": {
          "base_uri": "https://localhost:8080/"
        },
        "id": "WkCnNJ8g78CK",
        "outputId": "9c3be762-8311-4b5b-a847-327566dc2c3d"
      },
      "execution_count": 27,
      "outputs": [
        {
          "output_type": "stream",
          "name": "stdout",
          "text": [
            "1\n",
            "2\n",
            "4\n",
            "5\n",
            "6\n"
          ]
        }
      ]
    },
    {
      "cell_type": "markdown",
      "source": [
        "**Note:-** Number **3** is missing from the list"
      ],
      "metadata": {
        "id": "fMltR5_08AP2"
      }
    },
    {
      "cell_type": "markdown",
      "source": [
        "**Else Statement**"
      ],
      "metadata": {
        "id": "1zFfLQo17Yyk"
      }
    },
    {
      "cell_type": "code",
      "source": [
        "i = 1\n",
        "while i < 6:\n",
        "  print(i)\n",
        "  i += 1\n",
        "else:\n",
        "  print(\"i is no longer less than 6\")"
      ],
      "metadata": {
        "colab": {
          "base_uri": "https://localhost:8080/"
        },
        "id": "k_TXVF_j9PKc",
        "outputId": "fd7ada42-d32b-4991-d1b5-3804be8d75c6"
      },
      "execution_count": 28,
      "outputs": [
        {
          "output_type": "stream",
          "name": "stdout",
          "text": [
            "1\n",
            "2\n",
            "3\n",
            "4\n",
            "5\n",
            "i is no longer less than 6\n"
          ]
        }
      ]
    },
    {
      "cell_type": "markdown",
      "source": [
        "# **For Loops**"
      ],
      "metadata": {
        "id": "XIzkrJBt-BIx"
      }
    },
    {
      "cell_type": "code",
      "source": [
        "my_list = ['Cardiff', 'Newcastle', 'London', 'Scotland', 'Leeds', 'Oxford']\n",
        "for i in my_list :\n",
        "  print(i)"
      ],
      "metadata": {
        "colab": {
          "base_uri": "https://localhost:8080/"
        },
        "id": "xtAqEaHI-E-E",
        "outputId": "7ff4bd1d-53e5-477b-af75-7a75893e8d1b"
      },
      "execution_count": 29,
      "outputs": [
        {
          "output_type": "stream",
          "name": "stdout",
          "text": [
            "Cardiff\n",
            "Newcastle\n",
            "London\n",
            "Scotland\n",
            "Leeds\n",
            "Oxford\n"
          ]
        }
      ]
    },
    {
      "cell_type": "code",
      "source": [
        "# Looping through string\n",
        "for x in \"Sai Kalyan Kalluri\":\n",
        "  print(x)"
      ],
      "metadata": {
        "colab": {
          "base_uri": "https://localhost:8080/"
        },
        "id": "6T29q8jCEcHo",
        "outputId": "cfb34a3a-11dd-48c2-c46a-26f7970914c9"
      },
      "execution_count": 30,
      "outputs": [
        {
          "output_type": "stream",
          "name": "stdout",
          "text": [
            "S\n",
            "a\n",
            "i\n",
            " \n",
            "K\n",
            "a\n",
            "l\n",
            "y\n",
            "a\n",
            "n\n",
            " \n",
            "K\n",
            "a\n",
            "l\n",
            "l\n",
            "u\n",
            "r\n",
            "i\n"
          ]
        }
      ]
    },
    {
      "cell_type": "markdown",
      "source": [
        "**Continue Statement**"
      ],
      "metadata": {
        "id": "rfMW3tcEFY40"
      }
    },
    {
      "cell_type": "code",
      "source": [
        "fruits = [\"apple\", \"banana\", \"cherry\"]\n",
        "for x in fruits:\n",
        "  if x == \"banana\":\n",
        "    continue\n",
        "  print(x)"
      ],
      "metadata": {
        "colab": {
          "base_uri": "https://localhost:8080/"
        },
        "id": "2RLxDJt6FdEN",
        "outputId": "77940982-4311-442d-c705-febee3c3b6bc"
      },
      "execution_count": 31,
      "outputs": [
        {
          "output_type": "stream",
          "name": "stdout",
          "text": [
            "apple\n",
            "cherry\n"
          ]
        }
      ]
    },
    {
      "cell_type": "markdown",
      "source": [
        "**Break Statement**"
      ],
      "metadata": {
        "id": "2QpluBxmFiD2"
      }
    },
    {
      "cell_type": "code",
      "source": [
        "fruits = [\"apple\", \"banana\", \"cherry\"]\n",
        "for x in fruits:\n",
        "  print(x)\n",
        "  if x == \"banana\":\n",
        "    break"
      ],
      "metadata": {
        "colab": {
          "base_uri": "https://localhost:8080/"
        },
        "id": "4WVzLhV-Fkof",
        "outputId": "4db5f7f6-7936-40be-99a5-02baa5ce824f"
      },
      "execution_count": 32,
      "outputs": [
        {
          "output_type": "stream",
          "name": "stdout",
          "text": [
            "apple\n",
            "banana\n"
          ]
        }
      ]
    },
    {
      "cell_type": "markdown",
      "source": [
        "**Exit the loop when x is \"banana\", but this time the break comes before the print:**"
      ],
      "metadata": {
        "id": "Kpg5-WVOFoWK"
      }
    },
    {
      "cell_type": "code",
      "source": [
        "fruits = [\"apple\", \"banana\", \"cherry\"]\n",
        "for x in fruits:\n",
        "  if x == \"banana\":\n",
        "    break\n",
        "  print(x)"
      ],
      "metadata": {
        "colab": {
          "base_uri": "https://localhost:8080/"
        },
        "id": "HY-4Sr-SFsKh",
        "outputId": "878b3a45-5e08-4814-d2a4-960bfea448a3"
      },
      "execution_count": 33,
      "outputs": [
        {
          "output_type": "stream",
          "name": "stdout",
          "text": [
            "apple\n"
          ]
        }
      ]
    },
    {
      "cell_type": "markdown",
      "source": [
        "**Range**"
      ],
      "metadata": {
        "id": "YwDUL3Z8EmCD"
      }
    },
    {
      "cell_type": "code",
      "source": [
        "for i in range(0,6):\n",
        "  print(i)"
      ],
      "metadata": {
        "colab": {
          "base_uri": "https://localhost:8080/"
        },
        "id": "xUcYzjfiAo24",
        "outputId": "414a72c0-4c82-41e8-a09f-a2930d6abedc"
      },
      "execution_count": 34,
      "outputs": [
        {
          "output_type": "stream",
          "name": "stdout",
          "text": [
            "0\n",
            "1\n",
            "2\n",
            "3\n",
            "4\n",
            "5\n"
          ]
        }
      ]
    },
    {
      "cell_type": "code",
      "source": [
        "for i in range(2,30,3):\n",
        "  print(i)"
      ],
      "metadata": {
        "colab": {
          "base_uri": "https://localhost:8080/"
        },
        "id": "t9VKQSEPBNIY",
        "outputId": "452ec949-2ce2-4530-cdd6-7f7981ad7487"
      },
      "execution_count": 35,
      "outputs": [
        {
          "output_type": "stream",
          "name": "stdout",
          "text": [
            "2\n",
            "5\n",
            "8\n",
            "11\n",
            "14\n",
            "17\n",
            "20\n",
            "23\n",
            "26\n",
            "29\n"
          ]
        }
      ]
    },
    {
      "cell_type": "markdown",
      "source": [
        "**Else in For Loop**"
      ],
      "metadata": {
        "id": "i6WS1a_cEyxw"
      }
    },
    {
      "cell_type": "code",
      "source": [
        "for x in range(5):\n",
        "  print(x)\n",
        "else:\n",
        "  print(\"Finally finished!\")"
      ],
      "metadata": {
        "colab": {
          "base_uri": "https://localhost:8080/"
        },
        "id": "5twhUvi0CKxl",
        "outputId": "6511ea16-3b95-4d38-8f68-658bb9c06d87"
      },
      "execution_count": 36,
      "outputs": [
        {
          "output_type": "stream",
          "name": "stdout",
          "text": [
            "0\n",
            "1\n",
            "2\n",
            "3\n",
            "4\n",
            "Finally finished!\n"
          ]
        }
      ]
    },
    {
      "cell_type": "markdown",
      "source": [
        "***Note:*** The else block will NOT be executed if the loop is stopped by a break statement.\n",
        "\n"
      ],
      "metadata": {
        "id": "eQtoXHS4FKT8"
      }
    },
    {
      "cell_type": "code",
      "source": [
        "#Break the loop when x is 3, and see what happens with the else block:\n",
        "for x in range(6):\n",
        "  if x == 3: break\n",
        "  print(x)\n",
        "else:\n",
        "  print(\"Finally finished!\")"
      ],
      "metadata": {
        "colab": {
          "base_uri": "https://localhost:8080/"
        },
        "id": "1G48Y-sBFOEs",
        "outputId": "b7a96c57-4669-45be-c923-817a9b1c50b1"
      },
      "execution_count": 37,
      "outputs": [
        {
          "output_type": "stream",
          "name": "stdout",
          "text": [
            "0\n",
            "1\n",
            "2\n"
          ]
        }
      ]
    },
    {
      "cell_type": "markdown",
      "source": [
        "**Nested Loops**"
      ],
      "metadata": {
        "id": "91QmBBb9E_Oa"
      }
    },
    {
      "cell_type": "code",
      "source": [
        "adj = [\"red\", \"big\", \"tasty\"]\n",
        "fruits = [\"apple\", \"banana\", \"cherry\"]\n",
        "for x in adj:\n",
        "  for y in fruits:\n",
        "    print(x, y)"
      ],
      "metadata": {
        "colab": {
          "base_uri": "https://localhost:8080/"
        },
        "id": "QxRGywluC4sZ",
        "outputId": "2beca0c0-b7d2-4a58-e6c2-ecf03ad1f0b3"
      },
      "execution_count": 38,
      "outputs": [
        {
          "output_type": "stream",
          "name": "stdout",
          "text": [
            "red apple\n",
            "red banana\n",
            "red cherry\n",
            "big apple\n",
            "big banana\n",
            "big cherry\n",
            "tasty apple\n",
            "tasty banana\n",
            "tasty cherry\n"
          ]
        }
      ]
    },
    {
      "cell_type": "markdown",
      "source": [
        "**Pass**"
      ],
      "metadata": {
        "id": "fIRmoOMhFD8J"
      }
    },
    {
      "cell_type": "code",
      "source": [
        "for x in [0, 1, 2]:\n",
        "  pass\n",
        "# having an empty for loop like this, would raise an error without the pass statement"
      ],
      "metadata": {
        "id": "qpaEwqKXDy3N"
      },
      "execution_count": 39,
      "outputs": []
    }
  ],
  "metadata": {
    "colab": {
      "name": "Loops.ipynb",
      "provenance": [],
      "authorship_tag": "ABX9TyO4GccjYI30wDytchipvgtN",
      "include_colab_link": true
    },
    "kernelspec": {
      "display_name": "Python 3",
      "name": "python3"
    },
    "language_info": {
      "name": "python"
    }
  },
  "nbformat": 4,
  "nbformat_minor": 0
}