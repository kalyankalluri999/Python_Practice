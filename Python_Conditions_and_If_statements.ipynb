{
  "nbformat": 4,
  "nbformat_minor": 0,
  "metadata": {
    "colab": {
      "name": "Python Conditions and If statements.ipynb",
      "provenance": [],
      "authorship_tag": "ABX9TyM/KjfKdW04KrXuubCLNCtW",
      "include_colab_link": true
    },
    "kernelspec": {
      "name": "python3",
      "display_name": "Python 3"
    },
    "language_info": {
      "name": "python"
    }
  },
  "cells": [
    {
      "cell_type": "markdown",
      "metadata": {
        "id": "view-in-github",
        "colab_type": "text"
      },
      "source": [
        "<a href=\"https://colab.research.google.com/github/kalyankalluri999/Python_Practice/blob/main/Python_Conditions_and_If_statements.ipynb\" target=\"_parent\"><img src=\"https://colab.research.google.com/assets/colab-badge.svg\" alt=\"Open In Colab\"/></a>"
      ]
    },
    {
      "cell_type": "markdown",
      "source": [
        "#**Python if, else, elif statements**\n",
        "\n",
        "Python supports the usual logical conditions from mathematics:\n",
        "\n",
        "1. **Equals: a == b**\n",
        "2. **Not Equals: a != b**\n",
        "3. **Less than: a < b**\n",
        "4. **Less than or equal to: a <= b**\n",
        "5. **Greater than: a > b**\n",
        "6. **Greater than or equal to: a >= b**\n",
        "\n",
        "These conditions can be used in several ways, most commonly in \"if statements\" and loops."
      ],
      "metadata": {
        "id": "R9w2-gsqwOsf"
      }
    },
    {
      "cell_type": "markdown",
      "source": [
        "**Indentation**\n",
        "\n",
        "Python relies on indentation (whitespace at the beginning of a line) to define scope in the code. Other programming languages often use curly-brackets for this purpose."
      ],
      "metadata": {
        "id": "4CfFoGNH1cfe"
      }
    },
    {
      "cell_type": "code",
      "source": [
        "a = 1000\n",
        "b =2000\n",
        "if (a>b):\n",
        "print('a is greater than b')"
      ],
      "metadata": {
        "colab": {
          "base_uri": "https://localhost:8080/",
          "height": 130
        },
        "id": "fFy3C6pQ1fJe",
        "outputId": "a5ffdcf5-ebb4-45cc-bd7f-0a6ef32f68d5"
      },
      "execution_count": 1,
      "outputs": [
        {
          "output_type": "error",
          "ename": "IndentationError",
          "evalue": "ignored",
          "traceback": [
            "\u001b[0;36m  File \u001b[0;32m\"<ipython-input-1-68a743bf9e8d>\"\u001b[0;36m, line \u001b[0;32m4\u001b[0m\n\u001b[0;31m    print('a is greater than b')\u001b[0m\n\u001b[0m        ^\u001b[0m\n\u001b[0;31mIndentationError\u001b[0m\u001b[0;31m:\u001b[0m expected an indented block\n"
          ]
        }
      ]
    },
    {
      "cell_type": "code",
      "source": [
        "a = 10\n",
        "b = 20 \n",
        "if (a>b):\n",
        "  print('a is greater than b')"
      ],
      "metadata": {
        "id": "u8XKIzVb1nKM"
      },
      "execution_count": 2,
      "outputs": []
    },
    {
      "cell_type": "markdown",
      "source": [
        "**Else**\n",
        "\n",
        "The else keyword catches anything which isn't caught by the preceding conditions."
      ],
      "metadata": {
        "id": "Xa2GGHBt31H9"
      }
    },
    {
      "cell_type": "code",
      "source": [
        "a = 10\n",
        "b = 10\n",
        "if (a>b):\n",
        "  print('a is greater than b')\n",
        "else:\n",
        "  print('a is equal to b')"
      ],
      "metadata": {
        "colab": {
          "base_uri": "https://localhost:8080/"
        },
        "id": "2xB1corK38Jb",
        "outputId": "62a135a9-4f48-4dbb-ccc1-834a7ac0369f"
      },
      "execution_count": 3,
      "outputs": [
        {
          "output_type": "stream",
          "name": "stdout",
          "text": [
            "a is equal to b\n"
          ]
        }
      ]
    },
    {
      "cell_type": "markdown",
      "source": [
        "**Elif**\n",
        "\n",
        "The elif keyword is pythons way of saying \"if the previous conditions were not true, then try this condition\"."
      ],
      "metadata": {
        "id": "a75l9tkewNVT"
      }
    },
    {
      "cell_type": "code",
      "source": [
        " j = 9\n",
        " k = 12\n",
        " l = 15\n",
        " if (j>k):\n",
        "   print ('j is greater than k') # False\n",
        " elif (k>l):\n",
        "   print('l is greater than k ') \n",
        " else:\n",
        "    print('None of the above')"
      ],
      "metadata": {
        "colab": {
          "base_uri": "https://localhost:8080/"
        },
        "id": "BlTyetaQ2NWb",
        "outputId": "0f605874-85f2-4ef2-f89a-808ed9d9e0c4"
      },
      "execution_count": 4,
      "outputs": [
        {
          "output_type": "stream",
          "name": "stdout",
          "text": [
            "None of the above\n"
          ]
        }
      ]
    },
    {
      "cell_type": "markdown",
      "source": [
        "**Short Hand If**\n",
        "\n",
        "If you have only one statement to execute, you can put it on the same line as the if statement."
      ],
      "metadata": {
        "id": "Es_7NO8zyt3D"
      }
    },
    {
      "cell_type": "code",
      "source": [
        "x = 9\n",
        "y = 7\n",
        "if x>y: print('x is greater than y')"
      ],
      "metadata": {
        "colab": {
          "base_uri": "https://localhost:8080/"
        },
        "id": "WiGvzkaN30sx",
        "outputId": "baa4eaf5-f6b7-437b-e175-8a867df8e437"
      },
      "execution_count": 5,
      "outputs": [
        {
          "output_type": "stream",
          "name": "stdout",
          "text": [
            "x is greater than y\n"
          ]
        }
      ]
    },
    {
      "cell_type": "markdown",
      "source": [
        "**Short Hand If ... Else**\n",
        "\n",
        "If you have only one statement to execute, one for if, and one for else, you can put it all on the same line:"
      ],
      "metadata": {
        "id": "I9zhixOjyzjd"
      }
    },
    {
      "cell_type": "code",
      "source": [
        "a = 2\n",
        "b = 330\n",
        "print(\"A\") if a > b else print(\"B\")"
      ],
      "metadata": {
        "colab": {
          "base_uri": "https://localhost:8080/"
        },
        "id": "ZBxRCifY6RHS",
        "outputId": "1daf70b7-67ab-42fc-b760-6d1d1e7b009f"
      },
      "execution_count": 6,
      "outputs": [
        {
          "output_type": "stream",
          "name": "stdout",
          "text": [
            "B\n"
          ]
        }
      ]
    },
    {
      "cell_type": "code",
      "source": [
        "#You can also have multiple else statements on the same line:\n",
        "a = 330\n",
        "b = 330\n",
        "print(\"A\") if a > b else print(\"=\") if a == b else print(\"B\")"
      ],
      "metadata": {
        "colab": {
          "base_uri": "https://localhost:8080/"
        },
        "id": "CvpNbXl46cAn",
        "outputId": "e3053d25-e07a-4bcc-81f4-e75222bdcd64"
      },
      "execution_count": 7,
      "outputs": [
        {
          "output_type": "stream",
          "name": "stdout",
          "text": [
            "=\n"
          ]
        }
      ]
    },
    {
      "cell_type": "markdown",
      "source": [
        "This technique is known as Ternary Operators, or Conditional Expressions."
      ],
      "metadata": {
        "id": "Fv9ytcYIy65C"
      }
    },
    {
      "cell_type": "markdown",
      "source": [
        "**And**\n",
        "\n",
        "The **\"And\"** keyword is a logical operator, and is used to combine conditional statements:"
      ],
      "metadata": {
        "id": "0ET3_pQ9zAgK"
      }
    },
    {
      "cell_type": "code",
      "source": [
        " d = 6\n",
        " e = 9\n",
        " f = 10\n",
        " if d<e and e<f: print('Both statements are satisfied')"
      ],
      "metadata": {
        "colab": {
          "base_uri": "https://localhost:8080/"
        },
        "id": "deXoqQdo6lbS",
        "outputId": "61d62f68-ac65-4eed-9b6b-a97debbff0cc"
      },
      "execution_count": 8,
      "outputs": [
        {
          "output_type": "stream",
          "name": "stdout",
          "text": [
            "Both statements are satisfied\n"
          ]
        }
      ]
    },
    {
      "cell_type": "markdown",
      "source": [
        "**Or**\n",
        "\n",
        "The **or** keyword is a logical operator, and is used to combine conditional statements:"
      ],
      "metadata": {
        "id": "gXQwGPSvzGjH"
      }
    },
    {
      "cell_type": "code",
      "source": [
        " g = 2\n",
        " h = 8\n",
        " i = 6\n",
        " if g<h or h>i: print('Both statements are satisfied') "
      ],
      "metadata": {
        "colab": {
          "base_uri": "https://localhost:8080/"
        },
        "id": "lHFpzoQN7XyT",
        "outputId": "aee0993b-c449-46be-9ef1-1ab2738c82bf"
      },
      "execution_count": 9,
      "outputs": [
        {
          "output_type": "stream",
          "name": "stdout",
          "text": [
            "Both statements are satisfied\n"
          ]
        }
      ]
    },
    {
      "cell_type": "markdown",
      "source": [
        "**Nested If**\n",
        "\n",
        "You can have if statements inside if statements, this is called nested if statements."
      ],
      "metadata": {
        "id": "S0PgxmS3zLaK"
      }
    },
    {
      "cell_type": "code",
      "source": [
        "O = 4\n",
        "if (O % 2 !=0):\n",
        "  print(\"Not Even\")\n",
        "  if (O % 2 == 0):\n",
        "    print(\"Not Even\")\n",
        "  else:\n",
        "    print(\"Even\")"
      ],
      "metadata": {
        "id": "9f75cdKl78x5"
      },
      "execution_count": 10,
      "outputs": []
    },
    {
      "cell_type": "markdown",
      "source": [
        "**The pass Statement**\n",
        "\n",
        "if statements cannot be empty, but if you for some reason have an if statement with no content, put in the pass statement to avoid getting an error."
      ],
      "metadata": {
        "id": "Ye8Ni9cYzROU"
      }
    },
    {
      "cell_type": "code",
      "source": [
        "a = 333\n",
        "b = 200\n",
        "if b > a:\n",
        "  pass"
      ],
      "metadata": {
        "id": "dgYvPDN4AaRW"
      },
      "execution_count": 11,
      "outputs": []
    },
    {
      "cell_type": "markdown",
      "source": [
        "Credits: [*W3 Schools*](https://www.w3schools.com/python/python_conditions*.asp)"
      ],
      "metadata": {
        "id": "ZKuT5_WgAtWS"
      }
    }
  ]
}