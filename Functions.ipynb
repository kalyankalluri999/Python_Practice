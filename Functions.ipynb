{
  "cells": [
    {
      "cell_type": "markdown",
      "metadata": {
        "id": "view-in-github",
        "colab_type": "text"
      },
      "source": [
        "<a href=\"https://colab.research.google.com/github/kalyankalluri999/Python_Practice/blob/main/Functions.ipynb\" target=\"_parent\"><img src=\"https://colab.research.google.com/assets/colab-badge.svg\" alt=\"Open In Colab\"/></a>"
      ]
    },
    {
      "cell_type": "markdown",
      "metadata": {
        "id": "9R_oAx-wzNwc"
      },
      "source": [
        "# **Functions**"
      ]
    },
    {
      "cell_type": "markdown",
      "metadata": {
        "id": "o_AdzMb50WJH"
      },
      "source": [
        "In Python a function is defined using the def keyword To call a function, use the function name followed by **parenthesis()**.\n",
        "\n",
        "\n",
        "\n"
      ]
    },
    {
      "cell_type": "markdown",
      "source": [
        "\n",
        "**Creating and calling a function in Python**"
      ],
      "metadata": {
        "id": "vJUT01QEUD9i"
      }
    },
    {
      "cell_type": "code",
      "execution_count": 36,
      "metadata": {
        "id": "Wb9jwz8rzNUM"
      },
      "outputs": [],
      "source": [
        "def my_first_function(a,b):\n",
        "   c = a+b\n",
        "   print('Addition of two number is:', c)"
      ]
    },
    {
      "cell_type": "code",
      "execution_count": 37,
      "metadata": {
        "colab": {
          "base_uri": "https://localhost:8080/"
        },
        "id": "D3h-KI4ozeD9",
        "outputId": "886924bf-0493-4366-e781-b6ea9705c926"
      },
      "outputs": [
        {
          "output_type": "stream",
          "name": "stdout",
          "text": [
            "Addition of two number is: 500\n"
          ]
        }
      ],
      "source": [
        "my_first_function(200,300)"
      ]
    },
    {
      "cell_type": "markdown",
      "metadata": {
        "id": "xcsORwfA02pe"
      },
      "source": [
        "**Arguments**\n",
        "\n",
        "Information can be passed into functions as arguments. Arguments are specified after the function name, inside the parentheses. You can add as many arguments as you want, just separate them with a comma.\n",
        "\n",
        "The following example has a function with one argument (fname). When the function is called, we pass along a first name, which is used inside the function to print the full name:"
      ]
    },
    {
      "cell_type": "code",
      "execution_count": 38,
      "metadata": {
        "id": "R0T6TA681E3w"
      },
      "outputs": [],
      "source": [
        "def first_function(name):\n",
        "  print( \"Python \" + name)"
      ]
    },
    {
      "cell_type": "code",
      "execution_count": 39,
      "metadata": {
        "colab": {
          "base_uri": "https://localhost:8080/"
        },
        "id": "wq7_Q52q1ixG",
        "outputId": "3ddab3bd-a5b7-49ed-fec7-823cf91bae3a"
      },
      "outputs": [
        {
          "output_type": "stream",
          "name": "stdout",
          "text": [
            "Python is essential\n",
            "Python is easy to learn\n",
            "Python easy to execute\n"
          ]
        }
      ],
      "source": [
        "first_function(\"is essential\")\n",
        "first_function(\"is easy to learn\")\n",
        "first_function(\"easy to execute\")\n",
        "#Arguments are often shortened to args in Python documentations."
      ]
    },
    {
      "cell_type": "markdown",
      "source": [
        "**Arguments are often shortened to args in Python documentations.**"
      ],
      "metadata": {
        "id": "cfFMaW7LN5Fj"
      }
    },
    {
      "cell_type": "markdown",
      "metadata": {
        "id": "SfLBPcs-2Wmr"
      },
      "source": [
        "**Parameters or Arguments?**\n",
        "\n",
        "The terms parameter and argument can be used for the same thing: information that are passed into a function.\n",
        "\n",
        "**From a function's perspective** :- A parameter is the variable listed inside the parentheses in the function definition.\n",
        "\n",
        "An argument is the value that is sent to the function when it is called"
      ]
    },
    {
      "cell_type": "markdown",
      "metadata": {
        "id": "p4jwPlrW2xni"
      },
      "source": [
        "**Number of Arguments:-** By default, a function must be called with the correct number of arguments. Meaning that if your function expects **2 arguments, you have to call the function with 2 arguments, not more, and not less.**"
      ]
    },
    {
      "cell_type": "code",
      "execution_count": 40,
      "metadata": {
        "id": "ZBXICKSV2QUB"
      },
      "outputs": [],
      "source": [
        "def python_testing (a,b,c):\n",
        " e = a*b*c\n",
        " print('multiplication of these numbers is:', e)"
      ]
    },
    {
      "cell_type": "code",
      "execution_count": 41,
      "metadata": {
        "colab": {
          "base_uri": "https://localhost:8080/"
        },
        "id": "paoPY8Np3U6w",
        "outputId": "9423a806-d71e-40af-af32-55f5e10a15dd"
      },
      "outputs": [
        {
          "output_type": "stream",
          "name": "stdout",
          "text": [
            "multiplication of these numbers is: 189\n"
          ]
        }
      ],
      "source": [
        "python_testing(9,3,7)"
      ]
    },
    {
      "cell_type": "markdown",
      "metadata": {
        "id": "QtGjJe9G3dca"
      },
      "source": [
        "**If you try to call the function with 1 or 3 arguments, you will get an error:**"
      ]
    },
    {
      "cell_type": "code",
      "execution_count": 42,
      "metadata": {
        "id": "se9UOvfC3iiF"
      },
      "outputs": [],
      "source": [
        "def python_testing (a,b,c,d):\n",
        " e = a*b*c*d\n",
        " print('multiplication of these numbers is:', e)"
      ]
    },
    {
      "cell_type": "code",
      "execution_count": 43,
      "metadata": {
        "colab": {
          "base_uri": "https://localhost:8080/",
          "height": 165
        },
        "id": "ZAy7nM2Q3nAG",
        "outputId": "b225e136-ee58-4c99-f800-9e72c1abafbd"
      },
      "outputs": [
        {
          "output_type": "error",
          "ename": "TypeError",
          "evalue": "ignored",
          "traceback": [
            "\u001b[0;31m---------------------------------------------------------------------------\u001b[0m",
            "\u001b[0;31mTypeError\u001b[0m                                 Traceback (most recent call last)",
            "\u001b[0;32m<ipython-input-43-585a1284f848>\u001b[0m in \u001b[0;36m<module>\u001b[0;34m()\u001b[0m\n\u001b[0;32m----> 1\u001b[0;31m \u001b[0mpython_testing\u001b[0m\u001b[0;34m(\u001b[0m\u001b[0;36m9\u001b[0m\u001b[0;34m,\u001b[0m\u001b[0;36m3\u001b[0m\u001b[0;34m,\u001b[0m\u001b[0;36m7\u001b[0m\u001b[0;34m)\u001b[0m\u001b[0;34m\u001b[0m\u001b[0;34m\u001b[0m\u001b[0m\n\u001b[0m",
            "\u001b[0;31mTypeError\u001b[0m: python_testing() missing 1 required positional argument: 'd'"
          ]
        }
      ],
      "source": [
        "python_testing(9,3,7)"
      ]
    },
    {
      "cell_type": "code",
      "execution_count": 44,
      "metadata": {
        "id": "-O1oS3IU3qzp"
      },
      "outputs": [],
      "source": [
        "def python_test (x,y,z):\n",
        " k = x*y*z\n",
        " print('multiplication of these numbers is:', k)"
      ]
    },
    {
      "cell_type": "code",
      "execution_count": null,
      "metadata": {
        "id": "k9YA0Exw3uJY"
      },
      "outputs": [],
      "source": [
        "python_test(9,3,7,5)"
      ]
    },
    {
      "cell_type": "code",
      "execution_count": null,
      "metadata": {
        "id": "8boa5QCd7XvT"
      },
      "outputs": [],
      "source": [
        "def python_test (x,y,z):\n",
        " k = x*y*z\n",
        " print('multiplication of these numbers is:', k)"
      ]
    },
    {
      "cell_type": "code",
      "execution_count": 46,
      "metadata": {
        "colab": {
          "base_uri": "https://localhost:8080/"
        },
        "id": "oY5NcIDu7ZoY",
        "outputId": "9480fe7b-648d-496a-c1a7-883ac8a8029f"
      },
      "outputs": [
        {
          "output_type": "stream",
          "name": "stdout",
          "text": [
            "multiplication of these numbers is: 189\n"
          ]
        }
      ],
      "source": [
        "python_test(9,3,7)"
      ]
    },
    {
      "cell_type": "markdown",
      "metadata": {
        "id": "oX-Kvow45BG3"
      },
      "source": [
        "**Arbitrary Keyword Arguments**  **args**\n",
        "\n",
        "If you do not know how many keyword arguments that will be passed into your function, add two asterisk: ** before the parameter name in the function definition.This way the function will receive a dictionary of arguments, and can access the items accordingly:**"
      ]
    },
    {
      "cell_type": "code",
      "execution_count": 47,
      "metadata": {
        "id": "3rYkviwvIOwS"
      },
      "outputs": [],
      "source": [
        "def sample(*data):\n",
        "  print (\"Testing is working fine:\"+ data[2]) "
      ]
    },
    {
      "cell_type": "code",
      "execution_count": 48,
      "metadata": {
        "colab": {
          "base_uri": "https://localhost:8080/"
        },
        "id": "om2HIhxxIhxU",
        "outputId": "cc2657a5-41f7-4e7c-97b5-b94e8243aa61"
      },
      "outputs": [
        {
          "output_type": "stream",
          "name": "stdout",
          "text": [
            "Testing is working fine:ha\n"
          ]
        }
      ],
      "source": [
        "sample('I','ha','ha','know','it','is','not','working')"
      ]
    },
    {
      "cell_type": "markdown",
      "source": [
        "**Keyword Arguments**\n",
        "\n",
        "You can also send arguments with the key = value syntax. This way the order of the arguments does not matter."
      ],
      "metadata": {
        "id": "locM50B7QBqo"
      }
    },
    {
      "cell_type": "code",
      "source": [
        "def sample_test(person1, person2, person3):\n",
        "  print(\" The person name is:\", person1,person2,person3)"
      ],
      "metadata": {
        "id": "GqWj7PZ6QFtM"
      },
      "execution_count": 49,
      "outputs": []
    },
    {
      "cell_type": "code",
      "source": [
        "sample_test(person1='Sai', person2='Ram', person3='Hanuman')"
      ],
      "metadata": {
        "colab": {
          "base_uri": "https://localhost:8080/"
        },
        "id": "57yKMnwwQUVZ",
        "outputId": "a8f56ad2-2ea7-4201-fe4e-0bb490e83164"
      },
      "execution_count": 50,
      "outputs": [
        {
          "output_type": "stream",
          "name": "stdout",
          "text": [
            " The person name is: Sai Ram Hanuman\n"
          ]
        }
      ]
    },
    {
      "cell_type": "markdown",
      "source": [
        "The phrase Keyword Arguments are often shortened to kwargs in Python documentations."
      ],
      "metadata": {
        "id": "gDQdAEquQpYd"
      }
    },
    {
      "cell_type": "markdown",
      "source": [
        "**Arbitrary Keyword Arguments,** ****kwargs**"
      ],
      "metadata": {
        "id": "1YpBZ-MIQuv7"
      }
    },
    {
      "cell_type": "markdown",
      "source": [
        "If you do not know how many keyword arguments that will be passed into your function, add two asterisk: ** before the parameter name in the function definition. This way the function will receive a dictionary of arguments, and can access the items accordingly:"
      ],
      "metadata": {
        "id": "aRlnQYMaQ1_2"
      }
    },
    {
      "cell_type": "code",
      "source": [
        "def my_function(**kid):\n",
        "  print(\"His last name is \" + kid[\"lname\"])\n",
        "\n",
        "my_function(fname = \"Tobias\", lname = \"Refsnes\")"
      ],
      "metadata": {
        "colab": {
          "base_uri": "https://localhost:8080/"
        },
        "id": "53vL_D82Q8CI",
        "outputId": "3bb961c0-6a81-49d8-a652-025fcf9e208d"
      },
      "execution_count": 51,
      "outputs": [
        {
          "output_type": "stream",
          "name": "stdout",
          "text": [
            "His last name is Refsnes\n"
          ]
        }
      ]
    },
    {
      "cell_type": "markdown",
      "source": [
        "**Default Parameter Value**\n",
        "\n",
        "The following example shows how to use a default parameter value.\n",
        "\n",
        "If we call the function without argument, it uses the default value:"
      ],
      "metadata": {
        "id": "WACsKeg1RRz7"
      }
    },
    {
      "cell_type": "code",
      "source": [
        "def my_function(country = \"Cardiff\"):\n",
        "  print(\"I am from \" + country)\n",
        "my_function(\"India\")\n",
        "my_function(\"United Kingdom\")\n",
        "my_function()\n",
        "my_function(\"Scotland\")"
      ],
      "metadata": {
        "colab": {
          "base_uri": "https://localhost:8080/"
        },
        "id": "rOWao9UjRWTM",
        "outputId": "f3ef9f11-a563-41c3-db15-f1a55519b837"
      },
      "execution_count": 52,
      "outputs": [
        {
          "output_type": "stream",
          "name": "stdout",
          "text": [
            "I am from India\n",
            "I am from United Kingdom\n",
            "I am from Cardiff\n",
            "I am from Scotland\n"
          ]
        }
      ]
    },
    {
      "cell_type": "markdown",
      "source": [
        "**Passing a List as an Argument**\n",
        "\n",
        "You can send any data types of argument to a function (string, number, list, dictionary etc.), and it will be treated as the same data type inside the function.\n",
        "\n",
        "E.g. if you send a List as an argument, it will still be a List when it reaches the function:"
      ],
      "metadata": {
        "id": "m0Orj7qhSX45"
      }
    },
    {
      "cell_type": "code",
      "source": [
        "def my_function(food):\n",
        "  for x in food:\n",
        "    print(x)\n",
        "fruits = [\"apple\", \"banana\", \"cherry\"]\n",
        "my_function(fruits)"
      ],
      "metadata": {
        "colab": {
          "base_uri": "https://localhost:8080/"
        },
        "id": "zgxQ3giYSdrS",
        "outputId": "1a992b0e-5e9f-4b42-c275-7516dce63ef9"
      },
      "execution_count": 53,
      "outputs": [
        {
          "output_type": "stream",
          "name": "stdout",
          "text": [
            "apple\n",
            "banana\n",
            "cherry\n"
          ]
        }
      ]
    },
    {
      "cell_type": "markdown",
      "source": [
        "**Return Values**\n",
        "To let a function return a value, use the return statement:"
      ],
      "metadata": {
        "id": "-DwaMZEXSkAg"
      }
    },
    {
      "cell_type": "code",
      "source": [
        "def function_testing(object):\n",
        " return 5**object"
      ],
      "metadata": {
        "id": "xftWb3wqSlea"
      },
      "execution_count": 54,
      "outputs": []
    },
    {
      "cell_type": "code",
      "source": [
        "print(function_testing(3))\n",
        "print(function_testing(5))\n",
        "print(function_testing(6))"
      ],
      "metadata": {
        "colab": {
          "base_uri": "https://localhost:8080/"
        },
        "id": "Tj24RwVGS6kq",
        "outputId": "4b14902f-b3ba-4d12-e7d3-4ad819e61920"
      },
      "execution_count": 55,
      "outputs": [
        {
          "output_type": "stream",
          "name": "stdout",
          "text": [
            "125\n",
            "3125\n",
            "15625\n"
          ]
        }
      ]
    },
    {
      "cell_type": "markdown",
      "source": [
        "**The pass Statement**\n",
        "\n",
        "function definitions cannot be empty, but if you for some reason have a function definition with no content, put in the pass statement to avoid getting an error."
      ],
      "metadata": {
        "id": "XXBUNbsCTJt1"
      }
    },
    {
      "cell_type": "code",
      "source": [
        "def myfunction():\n",
        "  pass"
      ],
      "metadata": {
        "id": "JeKH7dMETI6d"
      },
      "execution_count": 56,
      "outputs": []
    },
    {
      "cell_type": "markdown",
      "source": [
        "\n",
        "**Recursion**\n",
        "\n",
        "Python also accepts function recursion, which means a defined function can call itself.\n",
        "\n",
        "Recursion is a common mathematical and programming concept. It means that a function calls itself. This has the benefit of meaning that you can loop through data to reach a result.\n",
        "\n",
        "**The developer should be very careful with recursion as it can be quite easy to slip into writing a function which never terminates, or one that uses excess amounts of memory or processor power. However, when written correctly recursion can be a very efficient and mathematically-elegant approach to programming.**\n",
        "\n",
        "In this example, tri_recursion() is a function that we have defined to call itself (\"recurse\"). We use the k variable as the data, which decrements (-1) every time we recurse. The recursion ends when the condition is not greater than 0 (i.e. when it is 0).\n",
        "\n",
        "To a new developer it can take some time to work out how exactly this works, best way to find out is by testin"
      ],
      "metadata": {
        "id": "nXj7reAmTSkY"
      }
    },
    {
      "cell_type": "code",
      "source": [
        "def tri_recursion(k):\n",
        "  if(k > 0):\n",
        "    result = k + tri_recursion(k - 1)\n",
        "    print(result)\n",
        "  else:\n",
        "    result = 0\n",
        "  return result\n",
        "\n",
        "print(\"\\n\\nRecursion Example Results\")\n",
        "tri_recursion(6)"
      ],
      "metadata": {
        "colab": {
          "base_uri": "https://localhost:8080/"
        },
        "id": "C770djIKT2Kt",
        "outputId": "70a5a483-2e6a-4ee0-9ee4-525313775c3a"
      },
      "execution_count": 57,
      "outputs": [
        {
          "output_type": "stream",
          "name": "stdout",
          "text": [
            "\n",
            "\n",
            "Recursion Example Results\n",
            "1\n",
            "3\n",
            "6\n",
            "10\n",
            "15\n",
            "21\n"
          ]
        },
        {
          "output_type": "execute_result",
          "data": {
            "text/plain": [
              "21"
            ]
          },
          "metadata": {},
          "execution_count": 57
        }
      ]
    }
  ],
  "metadata": {
    "colab": {
      "collapsed_sections": [],
      "name": "Functions.ipynb",
      "provenance": [],
      "authorship_tag": "ABX9TyN7edvAdGtmBm3gtaQEudqU",
      "include_colab_link": true
    },
    "kernelspec": {
      "display_name": "Python 3",
      "name": "python3"
    },
    "language_info": {
      "name": "python"
    }
  },
  "nbformat": 4,
  "nbformat_minor": 0
}