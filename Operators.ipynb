{
  "nbformat": 4,
  "nbformat_minor": 0,
  "metadata": {
    "colab": {
      "name": "Operators.ipynb",
      "provenance": [],
      "collapsed_sections": [
        "hj-d73U-uZKQ",
        "yEP3dwnbwHyB",
        "0XiP9IGD3kNg",
        "QIIuh5-148U2",
        "HV45HgwQ5ICW",
        "5dZtZV2W5QEe"
      ],
      "toc_visible": true,
      "authorship_tag": "ABX9TyMUo6219SqFzJaY52UE16Zb",
      "include_colab_link": true
    },
    "kernelspec": {
      "name": "python3",
      "display_name": "Python 3"
    },
    "language_info": {
      "name": "python"
    }
  },
  "cells": [
    {
      "cell_type": "markdown",
      "metadata": {
        "id": "view-in-github",
        "colab_type": "text"
      },
      "source": [
        "<a href=\"https://colab.research.google.com/github/kalyankalluri999/Python_Practice/blob/main/Operators.ipynb\" target=\"_parent\"><img src=\"https://colab.research.google.com/assets/colab-badge.svg\" alt=\"Open In Colab\"/></a>"
      ]
    },
    {
      "cell_type": "markdown",
      "source": [
        "# **Arithmetic operators**"
      ],
      "metadata": {
        "id": "hj-d73U-uZKQ"
      }
    },
    {
      "cell_type": "markdown",
      "source": [
        "Arithmetic operators are used to perform mathematical operations like addition, subtraction, multiplication and division.\n",
        "\n",
        "There are 7 arithmetic operators in Python :\n",
        "\n",
        "1.   Addition\n",
        "2.   Subtraction\n",
        "3.   Multiplication\n",
        "4.   Division\n",
        "5.   Modulus\n",
        "6.   Exponentiation\n",
        "7.   Floor division"
      ],
      "metadata": {
        "id": "c3Du4SZ_uh_h"
      }
    },
    {
      "cell_type": "code",
      "source": [
        "# Addition\n",
        "a = 10\n",
        "b = 20\n",
        "c = a+b \n",
        "print (c)"
      ],
      "metadata": {
        "colab": {
          "base_uri": "https://localhost:8080/"
        },
        "id": "Ka2ADXsr6gNp",
        "outputId": "cf65171e-6b43-474e-900f-68f79eeb9720"
      },
      "execution_count": null,
      "outputs": [
        {
          "output_type": "stream",
          "name": "stdout",
          "text": [
            "30\n"
          ]
        }
      ]
    },
    {
      "cell_type": "code",
      "source": [
        "# Subtraction\n",
        "A = 100\n",
        "B = 90\n",
        "C = A-B\n",
        "print (C)"
      ],
      "metadata": {
        "colab": {
          "base_uri": "https://localhost:8080/"
        },
        "id": "ull6BmZIu-lK",
        "outputId": "aa235611-cb70-42b1-ddbc-1414663669d8"
      },
      "execution_count": null,
      "outputs": [
        {
          "output_type": "stream",
          "name": "stdout",
          "text": [
            "10\n"
          ]
        }
      ]
    },
    {
      "cell_type": "code",
      "source": [
        "# Multiplication\n",
        "D = 10\n",
        "E = 20\n",
        "F = a*b \n",
        "print (F)"
      ],
      "metadata": {
        "colab": {
          "base_uri": "https://localhost:8080/"
        },
        "id": "9QINN7R9vFD4",
        "outputId": "498094ea-ea10-408a-b48a-b5073c72b433"
      },
      "execution_count": null,
      "outputs": [
        {
          "output_type": "stream",
          "name": "stdout",
          "text": [
            "200\n"
          ]
        }
      ]
    },
    {
      "cell_type": "code",
      "source": [
        "# Division (Coefficent)\n",
        "p = 25\n",
        "q = 5 \n",
        "r = p/q\n",
        "print (r)"
      ],
      "metadata": {
        "colab": {
          "base_uri": "https://localhost:8080/"
        },
        "id": "nwk-xCi1vU0g",
        "outputId": "3dbabbc6-a0da-40b5-e177-5436e5ff119c"
      },
      "execution_count": null,
      "outputs": [
        {
          "output_type": "stream",
          "name": "stdout",
          "text": [
            "5.0\n"
          ]
        }
      ]
    },
    {
      "cell_type": "code",
      "source": [
        "#Modulus (Remainer)\n",
        "p = 25\n",
        "q = 5 \n",
        "r = p%q\n",
        "print (r)"
      ],
      "metadata": {
        "colab": {
          "base_uri": "https://localhost:8080/"
        },
        "id": "1586ODNPuhQK",
        "outputId": "8ffb772e-c60c-4128-e1c5-18ff4be10d29"
      },
      "execution_count": null,
      "outputs": [
        {
          "output_type": "stream",
          "name": "stdout",
          "text": [
            "0\n"
          ]
        }
      ]
    },
    {
      "cell_type": "code",
      "source": [
        "#Exponentiation\n",
        "p = 25\n",
        "q = 5 \n",
        "r = p**q\n",
        "print (r)"
      ],
      "metadata": {
        "colab": {
          "base_uri": "https://localhost:8080/"
        },
        "id": "y9xaIN_mvuK5",
        "outputId": "e4f1d65b-f997-4982-a733-dd4ffa250f36"
      },
      "execution_count": null,
      "outputs": [
        {
          "output_type": "stream",
          "name": "stdout",
          "text": [
            "9765625\n"
          ]
        }
      ]
    },
    {
      "cell_type": "code",
      "source": [
        "#Floor division (It gives the floor value of the quotient produced by dividing the two operands.)\n",
        "p = 25\n",
        "q = 5 \n",
        "r = p//q\n",
        "print (r)"
      ],
      "metadata": {
        "colab": {
          "base_uri": "https://localhost:8080/"
        },
        "id": "v4x-197cv1Yw",
        "outputId": "36e68d26-0e0f-4ba1-d675-5ad26dac1b71"
      },
      "execution_count": null,
      "outputs": [
        {
          "output_type": "stream",
          "name": "stdout",
          "text": [
            "5\n"
          ]
        }
      ]
    },
    {
      "cell_type": "markdown",
      "source": [
        "# **Assignment Operators**\n",
        "\n",
        "The **assignment** operators are used to assign the value of the right expression to the left operand. The assignment operators are described in the below.\n",
        "\n",
        "1.  \"=\"   - It assigns the value of the right expression to the left operand.\n",
        "\n",
        "2.  \"+=\"\t- It increases the value of the left operand by the value of the right operand and assigns the modified value back to left operand. For example, if a = 10, b = 20 => a+ = b will be equal to a = a+ b and therefore, a = 30.\n",
        " \n",
        "3.  \"-=\"\t- It decreases the value of the left operand by the value of the right operand and assigns the modified value back to left operand. For example, if a = 20, b = 10 => a- = b will be equal to a = a- b and therefore, a = 10.\n",
        "\n",
        "4.  \"*=\"\t- It multiplies the value of the left operand by the value of the right operand and assigns the modified value back to then the left operand. For example, if a = 10, b = 20 => a* = b will be equal to a = a* b and therefore, a = 200.\n",
        "\n",
        "5.  \"%=\"\t- It divides the value of the left operand by the value of the right operand and assigns the reminder back to the left operand. For example, if a = 20, b = 10 => a % = b will be equal to a = a % b and therefore, a = 0.\n",
        "\n",
        "6.  \"**=\" - a**=b will be equal to a=a**b, for example, if a = 4, b =2, a**=b will assign 4**2 = 16 to a.\n",
        "\n",
        "7.  \"//=\" - A//=b will be equal to a = a// b, for example, if a = 4, b = 3, a//=b will assign 4//3 = 1 to a."
      ],
      "metadata": {
        "id": "yEP3dwnbwHyB"
      }
    },
    {
      "cell_type": "code",
      "source": [
        "# \"=\" Assigns values from right side operands to left side operand\n",
        "\n",
        "a = 10\n",
        "B = 5 \n",
        "C = a+B # =\tAssigns values from right side operands to left side operand\n",
        "# Ex:- C = a + B assigns value of a + b into c"
      ],
      "metadata": {
        "id": "wfZy01j1wtkO"
      },
      "execution_count": null,
      "outputs": []
    },
    {
      "cell_type": "code",
      "source": [
        "# \"+=\" It adds right operand to the left operand and assign the result to left operand\n",
        "l = 10\n",
        "l += 5\n",
        "print(l)"
      ],
      "metadata": {
        "colab": {
          "base_uri": "https://localhost:8080/"
        },
        "id": "lvBQSNECxMcR",
        "outputId": "54e04b90-9fbb-46c3-ce28-ce9a8eaf55b2"
      },
      "execution_count": null,
      "outputs": [
        {
          "output_type": "stream",
          "name": "stdout",
          "text": [
            "15\n"
          ]
        }
      ]
    },
    {
      "cell_type": "code",
      "source": [
        "# \"-=\" It subtracts right operand from the left operand and assign the result to left operand\n",
        "k = 90\n",
        "k -= 50\n",
        "print (k)"
      ],
      "metadata": {
        "colab": {
          "base_uri": "https://localhost:8080/"
        },
        "id": "t36-c1fazu1y",
        "outputId": "03383978-7e84-4503-e0c3-ef6db56d309e"
      },
      "execution_count": null,
      "outputs": [
        {
          "output_type": "stream",
          "name": "stdout",
          "text": [
            "40\n"
          ]
        }
      ]
    },
    {
      "cell_type": "code",
      "source": [
        "# \"*=\" It multiplies right operand with the left operand and assign the result to left operand\n",
        "k = 90\n",
        "k *= 50\n",
        "print (k)\n"
      ],
      "metadata": {
        "colab": {
          "base_uri": "https://localhost:8080/"
        },
        "id": "I1JYBWqtz_UU",
        "outputId": "2f974cd7-816e-496c-bffd-938c9367bc6d"
      },
      "execution_count": null,
      "outputs": [
        {
          "output_type": "stream",
          "name": "stdout",
          "text": [
            "4500\n"
          ]
        }
      ]
    },
    {
      "cell_type": "code",
      "source": [
        "# \"/=\"\" It divides left operand with the right operand and assign the result to left operand\n",
        "k = 90\n",
        "k /= 50\n",
        "print (k)"
      ],
      "metadata": {
        "colab": {
          "base_uri": "https://localhost:8080/"
        },
        "id": "h92Pz8Rc0LRa",
        "outputId": "8fc9e5a4-ec7d-4372-a6a3-671256f8b651"
      },
      "execution_count": null,
      "outputs": [
        {
          "output_type": "stream",
          "name": "stdout",
          "text": [
            "1.8\n"
          ]
        }
      ]
    },
    {
      "cell_type": "code",
      "source": [
        "k = 90\n",
        "k *= 50\n",
        "print (k)"
      ],
      "metadata": {
        "colab": {
          "base_uri": "https://localhost:8080/"
        },
        "id": "nO_lvfiv0Tco",
        "outputId": "325654a8-344f-4c42-b4f7-653b0a056c56"
      },
      "execution_count": null,
      "outputs": [
        {
          "output_type": "stream",
          "name": "stdout",
          "text": [
            "4500\n"
          ]
        }
      ]
    },
    {
      "cell_type": "code",
      "source": [
        "# \"%=\" It takes modulus using two operands and assign the result to left operand\n",
        "k = 90\n",
        "k %= 50\n",
        "print (k)"
      ],
      "metadata": {
        "colab": {
          "base_uri": "https://localhost:8080/"
        },
        "id": "lDRgkgrJ0m4z",
        "outputId": "f630ff7d-1793-4fb6-8937-6f64de87076b"
      },
      "execution_count": null,
      "outputs": [
        {
          "output_type": "stream",
          "name": "stdout",
          "text": [
            "40\n"
          ]
        }
      ]
    },
    {
      "cell_type": "code",
      "source": [
        ""
      ],
      "metadata": {
        "id": "pyElL3P027O4"
      },
      "execution_count": null,
      "outputs": []
    },
    {
      "cell_type": "code",
      "source": [
        "# \"**=\"Performs exponential (power) calculation on operators and assign value to the left operand\n",
        "k = 90\n",
        "k **= 50\n",
        "print (k)\n"
      ],
      "metadata": {
        "colab": {
          "base_uri": "https://localhost:8080/"
        },
        "id": "N3M_U3A400YL",
        "outputId": "22c7a4c6-3c1a-4369-c2ae-fb959af2d56c"
      },
      "execution_count": null,
      "outputs": [
        {
          "output_type": "stream",
          "name": "stdout",
          "text": [
            "51537752073201133103646112976562127270210752200100000000000000000000000000000000000000000000000000\n"
          ]
        }
      ]
    },
    {
      "cell_type": "code",
      "source": [
        "# \"//=\" It performs floor division on operators and assign value to the left operand\t\n",
        "k = 90\n",
        "k //= 50\n",
        "print (k)"
      ],
      "metadata": {
        "colab": {
          "base_uri": "https://localhost:8080/"
        },
        "id": "2MKK46FJ07sq",
        "outputId": "ea9ae46a-638e-4d45-c940-cdb8613068b5"
      },
      "execution_count": null,
      "outputs": [
        {
          "output_type": "stream",
          "name": "stdout",
          "text": [
            "1\n"
          ]
        }
      ]
    },
    {
      "cell_type": "code",
      "source": [
        "# \"&=\""
      ],
      "metadata": {
        "id": "tno8QjUO29QT"
      },
      "execution_count": null,
      "outputs": []
    },
    {
      "cell_type": "code",
      "source": [
        "# \"|=\""
      ],
      "metadata": {
        "id": "a5x2Q7jT3Ct4"
      },
      "execution_count": null,
      "outputs": []
    },
    {
      "cell_type": "code",
      "source": [
        "# \"^=\""
      ],
      "metadata": {
        "id": "zlg7BqWP3FSw"
      },
      "execution_count": null,
      "outputs": []
    },
    {
      "cell_type": "code",
      "source": [
        "# \">>=\""
      ],
      "metadata": {
        "id": "PsjTSS8_3Iga"
      },
      "execution_count": null,
      "outputs": []
    },
    {
      "cell_type": "code",
      "source": [
        "# \"<<=\""
      ],
      "metadata": {
        "id": "80b9Gs243LO1"
      },
      "execution_count": null,
      "outputs": []
    },
    {
      "cell_type": "code",
      "source": [
        ""
      ],
      "metadata": {
        "id": "IBb-TXAn3OnH"
      },
      "execution_count": null,
      "outputs": []
    },
    {
      "cell_type": "markdown",
      "source": [
        "# **Comparison Operators**\n",
        "\n",
        "**Comparison operators** are used to comparing the value of the two operands and returns Boolean true or false accordingly. The comparison operators are described below.\n",
        "\n",
        "1. \"==\"\t -If the value of two operands is equal, then the condition becomes true.\n",
        "\n",
        "2. \"!=\"\t - If the value of two operands is not equal, then the condition becomes true.\n",
        "\n",
        "3. \"<=\"  - If the first operand is less than or equal to the second operand, then the condition becomes true.\n",
        "\n",
        "4. \">=\"  - If the first operand is greater than or equal to the second operand, then the condition becomes true.\n",
        "\n",
        "5.  \">\"  - If the first operand is greater than the second operand, then the condition becomes true.\n",
        "\n",
        "6.  \"<\"  - If the first operand is less than the second operand, then the condition becomes true."
      ],
      "metadata": {
        "id": "0XiP9IGD3kNg"
      }
    },
    {
      "cell_type": "code",
      "source": [
        "k = 3\n",
        "l = 3\n",
        "print('Both numbers are equal:', k==l) "
      ],
      "metadata": {
        "id": "PKWq_gzi3sM6",
        "colab": {
          "base_uri": "https://localhost:8080/"
        },
        "outputId": "f1c4af6d-9f31-4c1f-dd8b-598f9be05d53"
      },
      "execution_count": 14,
      "outputs": [
        {
          "output_type": "stream",
          "name": "stdout",
          "text": [
            "Both numbers are equal: True\n"
          ]
        }
      ]
    },
    {
      "cell_type": "code",
      "source": [
        "L = 19\n",
        "M = 21\n",
        "print ('Both numbers are not equal:', L!=M)"
      ],
      "metadata": {
        "colab": {
          "base_uri": "https://localhost:8080/"
        },
        "id": "GSExJxQgTdiX",
        "outputId": "acfcf4b5-cdba-47a2-dbf7-aed4a1a3bac7"
      },
      "execution_count": 15,
      "outputs": [
        {
          "output_type": "stream",
          "name": "stdout",
          "text": [
            "Both numbers are not equal: True\n"
          ]
        }
      ]
    },
    {
      "cell_type": "code",
      "source": [
        "y = 120\n",
        "k = 220\n",
        "print (\"Both numbers are less than are equal to:\", y<=k)"
      ],
      "metadata": {
        "colab": {
          "base_uri": "https://localhost:8080/"
        },
        "id": "aIuguaGbTm9j",
        "outputId": "16ff1977-b879-4be0-de0c-89abc0094605"
      },
      "execution_count": 19,
      "outputs": [
        {
          "output_type": "stream",
          "name": "stdout",
          "text": [
            "Both numbers are less than are equal to: True\n"
          ]
        }
      ]
    },
    {
      "cell_type": "code",
      "source": [
        "y = 120\n",
        "k = 220\n",
        "print (\"Both numbers are less than are equal to:\", y>=k)"
      ],
      "metadata": {
        "colab": {
          "base_uri": "https://localhost:8080/"
        },
        "id": "dgwgeZ_HTw1F",
        "outputId": "04badeb4-2098-4b56-f9b8-771e5ffbb702"
      },
      "execution_count": 20,
      "outputs": [
        {
          "output_type": "stream",
          "name": "stdout",
          "text": [
            "Both numbers are less than are equal to: False\n"
          ]
        }
      ]
    },
    {
      "cell_type": "code",
      "source": [
        "o = 9\n",
        "w = 18\n",
        "print ('Given number W is greater than O :', w>o)"
      ],
      "metadata": {
        "colab": {
          "base_uri": "https://localhost:8080/"
        },
        "id": "w7yP59ahT4oX",
        "outputId": "effcf995-154c-4e5c-eff6-066646c76512"
      },
      "execution_count": 22,
      "outputs": [
        {
          "output_type": "stream",
          "name": "stdout",
          "text": [
            "Given number W is greater than O : True\n"
          ]
        }
      ]
    },
    {
      "cell_type": "code",
      "source": [
        "ex = 420\n",
        "bf = 143\n",
        "print ('Given BF is less than ex :', bf<ex)"
      ],
      "metadata": {
        "colab": {
          "base_uri": "https://localhost:8080/"
        },
        "id": "BzE_G63KUKVR",
        "outputId": "aac41c40-a2b3-4f28-bcfc-28693b352943"
      },
      "execution_count": 23,
      "outputs": [
        {
          "output_type": "stream",
          "name": "stdout",
          "text": [
            "Given BF is less than ex : True\n"
          ]
        }
      ]
    },
    {
      "cell_type": "code",
      "source": [
        ""
      ],
      "metadata": {
        "id": "7L_2bYW9UIns"
      },
      "execution_count": null,
      "outputs": []
    },
    {
      "cell_type": "markdown",
      "source": [
        "\n",
        "# **Logical Operators**\n",
        "\n",
        "The logical operators are used primarily in the expression evaluation to make a decision. Python supports the following logical operators.\n",
        "\n",
        "1. add\n",
        "\n",
        "2. or\n",
        "\n",
        "3. not (Reverse the result, returns False if the result is true)"
      ],
      "metadata": {
        "id": "QIIuh5-148U2"
      }
    },
    {
      "cell_type": "code",
      "source": [
        "x = 21\n",
        "y = 41\n",
        "z = 51\n",
        "print (x<y and y<z)"
      ],
      "metadata": {
        "id": "WLU7v4Mf5BKQ",
        "colab": {
          "base_uri": "https://localhost:8080/"
        },
        "outputId": "49219f1e-ca38-44e4-b405-52a42381782d"
      },
      "execution_count": 25,
      "outputs": [
        {
          "output_type": "stream",
          "name": "stdout",
          "text": [
            "True\n"
          ]
        }
      ]
    },
    {
      "cell_type": "code",
      "source": [
        "x<y or y<z"
      ],
      "metadata": {
        "colab": {
          "base_uri": "https://localhost:8080/"
        },
        "id": "N8SrHSIoVReA",
        "outputId": "4a7a1b95-363e-47cb-ad1c-55d02bed3e8a"
      },
      "execution_count": 26,
      "outputs": [
        {
          "output_type": "execute_result",
          "data": {
            "text/plain": [
              "True"
            ]
          },
          "metadata": {},
          "execution_count": 26
        }
      ]
    },
    {
      "cell_type": "code",
      "source": [
        "z = 9\n",
        "\n",
        "print(not(z > 3 and z < 10))"
      ],
      "metadata": {
        "colab": {
          "base_uri": "https://localhost:8080/"
        },
        "id": "zLGDaNLSVXtd",
        "outputId": "87596765-99d0-4714-e63e-27e64dd60865"
      },
      "execution_count": 27,
      "outputs": [
        {
          "output_type": "stream",
          "name": "stdout",
          "text": [
            "False\n"
          ]
        }
      ]
    },
    {
      "cell_type": "markdown",
      "source": [
        "# **Identity Operators**\n",
        "\n",
        "**Identity operators** are used to compare the objects, not if they are equal, but if they are actually the same object, with the same memory location:\n",
        "\n",
        "1. **is** - It is evaluated to be true if the reference present at both sides point to the same object.\n",
        "2. **is not** - It is evaluated to be true if the reference present at both sides do not point to the same object."
      ],
      "metadata": {
        "id": "HV45HgwQ5ICW"
      }
    },
    {
      "cell_type": "code",
      "source": [
        "x = [\"apple\", \"banana\"]\n",
        "y = [\"apple\", \"banana\"]\n",
        "z = x\n",
        "print(x is z) # returns True because z is the same object as x\n",
        "print(x is y) # returns False because x is not the same object as y, even if they have the same content\n",
        "print(x == y) # to demonstrate the difference betweeen \"is\" and \"==\": this comparison returns True because x is equal to y"
      ],
      "metadata": {
        "id": "sveF8skx5Pi3",
        "colab": {
          "base_uri": "https://localhost:8080/"
        },
        "outputId": "6236c26a-dbc6-4d32-cfde-d56d16d33387"
      },
      "execution_count": 28,
      "outputs": [
        {
          "output_type": "stream",
          "name": "stdout",
          "text": [
            "True\n",
            "False\n",
            "True\n"
          ]
        }
      ]
    },
    {
      "cell_type": "code",
      "source": [
        ""
      ],
      "metadata": {
        "id": "IiV0TdKgXg_k"
      },
      "execution_count": null,
      "outputs": []
    },
    {
      "cell_type": "markdown",
      "source": [
        "# **Membership Operators**\n",
        "\n",
        "Membership operators are used to test if a sequence is presented in an object:\n",
        "\n",
        "1. **in** - Returns True if a sequence with the specified value is present in the object.\t\n",
        "\n",
        "2. **not in** - Returns True if a sequence with the specified value is not present in the object."
      ],
      "metadata": {
        "id": "5dZtZV2W5QEe"
      }
    },
    {
      "cell_type": "code",
      "source": [
        "x = [\"apple\", \"banana\"]\n",
        "print(\"banana\" in x)\n",
        "# returns True because a sequence with the value \"banana\" is in the list"
      ],
      "metadata": {
        "id": "CJPqQzNgX_1V"
      },
      "execution_count": null,
      "outputs": []
    },
    {
      "cell_type": "code",
      "source": [
        "x = [\"apple\", \"banana\"]\n",
        "print(\"pineapple\" not in x)\n",
        "# returns True because a sequence with the value \"pineapple\" is not in the list"
      ],
      "metadata": {
        "id": "-haFb0mdYDMC"
      },
      "execution_count": null,
      "outputs": []
    },
    {
      "cell_type": "markdown",
      "source": [
        "# **Bitwise Operators**\n",
        "\n",
        "Bitwise operators are used to compare (binary) numbers:\n",
        "\n",
        "1. & \tAND\t- Sets each bit to 1 if both bits are 1.\n",
        "\n",
        "2. |  OR\t- Sets each bit to 1 if one of two bits is 1\n",
        "\n",
        "3. ^\tXOR\t- Sets each bit to 1 if only one of two bits is 1.\n",
        "\n",
        "4. ~ \tNOT\t- Inverts all the bits.\n",
        "\n",
        "5. <<\tZero fill left shift\t\n",
        "Shift left by pushing zeros in from the right and let the leftmost bits fall off.\n",
        "\n",
        "6. \"**>>**\"\t- Signed right shift\t\n",
        "Shift right by pushing copies of the leftmost bit in from the left, and let the rightmost bits fall off."
      ],
      "metadata": {
        "id": "vp97F1xc5Yo1"
      }
    },
    {
      "cell_type": "code",
      "source": [
        ""
      ],
      "metadata": {
        "id": "k70-cXxH5hCN"
      },
      "execution_count": null,
      "outputs": []
    }
  ]
}